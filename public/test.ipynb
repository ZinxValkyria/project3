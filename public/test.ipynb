{
 "cells": [
  {
   "cell_type": "code",
   "execution_count": 35,
   "metadata": {},
   "outputs": [
    {
     "name": "stdout",
     "output_type": "stream",
     "text": [
      "['ben', 'archie', 'kev']\n",
      "\n"
     ]
    }
   ],
   "source": [
    "names = [\"ben\", \"archie\", \"kev\"]\n",
    "print(names[0:])\n",
    "\n",
    "\n",
    "\n",
    "names.append(\"james\")\n",
    "print()\n",
    "for name in names:\n",
    "    if(len(names) <= 2):\n",
    "        print(name)"
   ]
  }
 ],
 "metadata": {
  "kernelspec": {
   "display_name": "Python 3",
   "language": "python",
   "name": "python3"
  },
  "language_info": {
   "codemirror_mode": {
    "name": "ipython",
    "version": 3
   },
   "file_extension": ".py",
   "mimetype": "text/x-python",
   "name": "python",
   "nbconvert_exporter": "python",
   "pygments_lexer": "ipython3",
   "version": "3.12.0"
  }
 },
 "nbformat": 4,
 "nbformat_minor": 2
}
